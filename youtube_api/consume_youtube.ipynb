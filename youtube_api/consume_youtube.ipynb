{
 "cells": [
  {
   "cell_type": "code",
   "execution_count": 27,
   "metadata": {},
   "outputs": [],
   "source": [
    "from googleapiclient.discovery import build\n",
    "from IPython.display import JSON\n",
    "import pandas as pd"
   ]
  },
  {
   "cell_type": "code",
   "execution_count": 2,
   "metadata": {},
   "outputs": [],
   "source": [
    "api_key = '[API KEY]'"
   ]
  },
  {
   "cell_type": "code",
   "execution_count": 30,
   "metadata": {},
   "outputs": [],
   "source": [
    "channel_ids = [\n",
    "    'UC0rzsIrAxF4kCsALP6J2EsA', #Raditya Dika\n",
    "    #Maybe more\n",
    "]"
   ]
  },
  {
   "cell_type": "code",
   "execution_count": 31,
   "metadata": {},
   "outputs": [
    {
     "data": {
      "application/json": {
       "etag": "OyGLb9oWMhkdeh95EmTGaYXi1sE",
       "items": [
        {
         "contentDetails": {
          "relatedPlaylists": {
           "likes": "",
           "uploads": "UU0rzsIrAxF4kCsALP6J2EsA"
          }
         },
         "etag": "Ts3QL1ZqBON4cJguXSbNxKODuXY",
         "id": "UC0rzsIrAxF4kCsALP6J2EsA",
         "kind": "youtube#channel",
         "snippet": {
          "country": "ID",
          "customUrl": "@radityadika",
          "description": "Raditya Dika adalah seorang pencerita dalam berbagai macam format: buku, stand up comedy, sampai ke film.",
          "localized": {
           "description": "Raditya Dika adalah seorang pencerita dalam berbagai macam format: buku, stand up comedy, sampai ke film.",
           "title": "Raditya Dika"
          },
          "publishedAt": "2007-06-29T04:38:58Z",
          "thumbnails": {
           "default": {
            "height": 88,
            "url": "https://yt3.ggpht.com/9cI6CQSG-5ml7pDyd9py4Na2Vsm9HcyhAzg84K9wLCX17VhI1A9DLB2ef_9Li7AMXk0nkLLTqQ=s88-c-k-c0x00ffffff-no-rj",
            "width": 88
           },
           "high": {
            "height": 800,
            "url": "https://yt3.ggpht.com/9cI6CQSG-5ml7pDyd9py4Na2Vsm9HcyhAzg84K9wLCX17VhI1A9DLB2ef_9Li7AMXk0nkLLTqQ=s800-c-k-c0x00ffffff-no-rj",
            "width": 800
           },
           "medium": {
            "height": 240,
            "url": "https://yt3.ggpht.com/9cI6CQSG-5ml7pDyd9py4Na2Vsm9HcyhAzg84K9wLCX17VhI1A9DLB2ef_9Li7AMXk0nkLLTqQ=s240-c-k-c0x00ffffff-no-rj",
            "width": 240
           }
          },
          "title": "Raditya Dika"
         },
         "statistics": {
          "hiddenSubscriberCount": false,
          "subscriberCount": "10100000",
          "videoCount": "1974",
          "viewCount": "2201576441"
         }
        }
       ],
       "kind": "youtube#channelListResponse",
       "pageInfo": {
        "resultsPerPage": 5,
        "totalResults": 1
       }
      },
      "text/plain": [
       "<IPython.core.display.JSON object>"
      ]
     },
     "execution_count": 31,
     "metadata": {
      "application/json": {
       "expanded": false,
       "root": "root"
      }
     },
     "output_type": "execute_result"
    }
   ],
   "source": [
    "api_service_name = \"youtube\"\n",
    "api_version = \"v3\"\n",
    "\n",
    "# Get credentials and create an API client\n",
    "youtube = build(\n",
    "    api_service_name, api_version, developerKey=api_key)\n",
    "\n",
    "request = youtube.channels().list(\n",
    "    part=\"snippet,contentDetails,statistics\",\n",
    "    id=\",\".join(channel_ids)\n",
    ")\n",
    "response = request.execute()\n",
    "\n",
    "JSON(response)"
   ]
  },
  {
   "cell_type": "code",
   "execution_count": 36,
   "metadata": {},
   "outputs": [],
   "source": [
    "def get_channel_stats(youtube, channel_ids):\n",
    "    \n",
    "    data_list = []\n",
    "\n",
    "    request = youtube.channels().list(\n",
    "        part=\"snippet,contentDetails,statistics\",\n",
    "        id=\",\".join(channel_ids)\n",
    "    )\n",
    "    response = request.execute()\n",
    "\n",
    "    # Loop through items\n",
    "    for item in response['items']:\n",
    "        data = {\n",
    "            'channel_name': item['snippet']['title'],\n",
    "            'subsrcibers': item['statistics']['subscriberCount'],\n",
    "            'views': item['statistics']['viewCount'],\n",
    "            'videos': item['statistics']['videoCount'],\n",
    "            'playlist_id': item['contentDetails']['relatedPlaylists']['uploads'],\n",
    "        }\n",
    "        data_list.append(data)\n",
    "    \n",
    "    return(pd.DataFrame(data_list))"
   ]
  },
  {
   "cell_type": "code",
   "execution_count": 44,
   "metadata": {},
   "outputs": [
    {
     "data": {
      "text/html": [
       "<div>\n",
       "<style scoped>\n",
       "    .dataframe tbody tr th:only-of-type {\n",
       "        vertical-align: middle;\n",
       "    }\n",
       "\n",
       "    .dataframe tbody tr th {\n",
       "        vertical-align: top;\n",
       "    }\n",
       "\n",
       "    .dataframe thead th {\n",
       "        text-align: right;\n",
       "    }\n",
       "</style>\n",
       "<table border=\"1\" class=\"dataframe\">\n",
       "  <thead>\n",
       "    <tr style=\"text-align: right;\">\n",
       "      <th></th>\n",
       "      <th>channel_name</th>\n",
       "      <th>subsrcibers</th>\n",
       "      <th>views</th>\n",
       "      <th>videos</th>\n",
       "      <th>playlist_id</th>\n",
       "    </tr>\n",
       "  </thead>\n",
       "  <tbody>\n",
       "    <tr>\n",
       "      <th>0</th>\n",
       "      <td>Raditya Dika</td>\n",
       "      <td>10100000</td>\n",
       "      <td>2201576441</td>\n",
       "      <td>1974</td>\n",
       "      <td>UU0rzsIrAxF4kCsALP6J2EsA</td>\n",
       "    </tr>\n",
       "  </tbody>\n",
       "</table>\n",
       "</div>"
      ],
      "text/plain": [
       "   channel_name subsrcibers       views videos               playlist_id\n",
       "0  Raditya Dika    10100000  2201576441   1974  UU0rzsIrAxF4kCsALP6J2EsA"
      ]
     },
     "execution_count": 44,
     "metadata": {},
     "output_type": "execute_result"
    }
   ],
   "source": [
    "channel_stats = get_channel_stats(youtube, channel_ids)\n",
    "channel_stats"
   ]
  },
  {
   "cell_type": "code",
   "execution_count": 49,
   "metadata": {},
   "outputs": [],
   "source": [
    "playlist_id = 'UU0rzsIrAxF4kCsALP6J2EsA'\n",
    "\n",
    "def get_video_ids(youtube, playlist_id):\n",
    "\n",
    "    video_ids = []\n",
    "\n",
    "    request = youtube.playlistItems().list(\n",
    "        part=\"snippet, contentDetails\",\n",
    "        playlistId=playlist_id,\n",
    "        maxResults = 50\n",
    "    )\n",
    "    response = request.execute()\n",
    "\n",
    "    for item in response['items']:\n",
    "        video_ids.append(item['contentDetails']['videoId'])\n",
    "\n",
    "    next_page_token = response.get('nextPageToken')\n",
    "    while next_page_token is not None:\n",
    "        request = youtube.playlistItems().list(\n",
    "            part=\"snippet, contentDetails\",\n",
    "            playlistId=playlist_id,\n",
    "            maxResults = 50,\n",
    "            pageToken = next_page_token\n",
    "        )\n",
    "        response = request.execute()\n",
    "\n",
    "        for item in response['items']:\n",
    "            video_ids.append(item['contentDetails']['videoId'])\n",
    "        \n",
    "        next_page_token = response.get('nextPageToken')\n",
    "\n",
    "    return video_ids"
   ]
  },
  {
   "cell_type": "code",
   "execution_count": 63,
   "metadata": {},
   "outputs": [
    {
     "data": {
      "text/plain": [
       "1973"
      ]
     },
     "execution_count": 63,
     "metadata": {},
     "output_type": "execute_result"
    }
   ],
   "source": [
    "video_ids = get_video_ids(youtube, playlist_id)\n",
    "\n",
    "len(video_ids)"
   ]
  },
  {
   "cell_type": "code",
   "execution_count": 57,
   "metadata": {},
   "outputs": [],
   "source": [
    "def get_video_details(youtube, video_ids):\n",
    "    all_video_info = []\n",
    "\n",
    "    request = youtube.videos().list(\n",
    "        part=\"snippet, contentDetails, statistics\",\n",
    "        id=video_ids[0:3],\n",
    "    )\n",
    "    response = request.execute()\n",
    "\n",
    "    for video in response['items']:\n",
    "        keep_stats = {\n",
    "            'snippet': ['channelTitle', 'title', 'description', 'tags', 'publishedAt'],\n",
    "            'statistics': ['viewCount', 'likeCount', 'favouriteCount', 'commentCount'],\n",
    "            'contentDetails': ['duration', 'definition', 'caption'],\n",
    "        }\n",
    "\n",
    "        video_info = {}\n",
    "        video_info['video_id'] = video['id']\n",
    "\n",
    "        for k in keep_stats.keys():\n",
    "            for v in keep_stats[k]:\n",
    "                try:\n",
    "                    video_info[v] = video[k][v]\n",
    "                except:\n",
    "                    video_info[v] = None\n",
    "\n",
    "        all_video_info.append(video_info)\n",
    "    \n",
    "    return pd.DataFrame(all_video_info)"
   ]
  },
  {
   "cell_type": "code",
   "execution_count": 58,
   "metadata": {},
   "outputs": [
    {
     "data": {
      "text/html": [
       "<div>\n",
       "<style scoped>\n",
       "    .dataframe tbody tr th:only-of-type {\n",
       "        vertical-align: middle;\n",
       "    }\n",
       "\n",
       "    .dataframe tbody tr th {\n",
       "        vertical-align: top;\n",
       "    }\n",
       "\n",
       "    .dataframe thead th {\n",
       "        text-align: right;\n",
       "    }\n",
       "</style>\n",
       "<table border=\"1\" class=\"dataframe\">\n",
       "  <thead>\n",
       "    <tr style=\"text-align: right;\">\n",
       "      <th></th>\n",
       "      <th>video_id</th>\n",
       "      <th>channelTitle</th>\n",
       "      <th>title</th>\n",
       "      <th>description</th>\n",
       "      <th>tags</th>\n",
       "      <th>publishedAt</th>\n",
       "      <th>viewCount</th>\n",
       "      <th>likeCount</th>\n",
       "      <th>favouriteCount</th>\n",
       "      <th>commentCount</th>\n",
       "      <th>duration</th>\n",
       "      <th>definition</th>\n",
       "      <th>caption</th>\n",
       "    </tr>\n",
       "  </thead>\n",
       "  <tbody>\n",
       "    <tr>\n",
       "      <th>0</th>\n",
       "      <td>L7tUnDWwqvQ</td>\n",
       "      <td>Raditya Dika</td>\n",
       "      <td>Makanan Favorit Keluarga Istri Saya!</td>\n",
       "      <td>Beberapa waktu lalu, gue ngundang tante gue un...</td>\n",
       "      <td>[raditya dika]</td>\n",
       "      <td>2023-12-29T13:25:30Z</td>\n",
       "      <td>126930</td>\n",
       "      <td>3840</td>\n",
       "      <td>None</td>\n",
       "      <td>302</td>\n",
       "      <td>PT15M25S</td>\n",
       "      <td>hd</td>\n",
       "      <td>false</td>\n",
       "    </tr>\n",
       "    <tr>\n",
       "      <th>1</th>\n",
       "      <td>vIoaAfglUlA</td>\n",
       "      <td>Raditya Dika</td>\n",
       "      <td>Setelah keluar kata2 sakti baru deh nurut..</td>\n",
       "      <td></td>\n",
       "      <td>None</td>\n",
       "      <td>2023-12-25T03:42:53Z</td>\n",
       "      <td>40769</td>\n",
       "      <td>1495</td>\n",
       "      <td>None</td>\n",
       "      <td>35</td>\n",
       "      <td>PT25S</td>\n",
       "      <td>hd</td>\n",
       "      <td>false</td>\n",
       "    </tr>\n",
       "    <tr>\n",
       "      <th>2</th>\n",
       "      <td>fodkqroWBpY</td>\n",
       "      <td>Raditya Dika</td>\n",
       "      <td>Hohohihihohohihihohohihi</td>\n",
       "      <td>Beli video kompilasi tur Stand Up Comedy Radit...</td>\n",
       "      <td>[raditya dika]</td>\n",
       "      <td>2023-12-22T12:00:34Z</td>\n",
       "      <td>256938</td>\n",
       "      <td>5853</td>\n",
       "      <td>None</td>\n",
       "      <td>311</td>\n",
       "      <td>PT33M43S</td>\n",
       "      <td>hd</td>\n",
       "      <td>false</td>\n",
       "    </tr>\n",
       "  </tbody>\n",
       "</table>\n",
       "</div>"
      ],
      "text/plain": [
       "      video_id  channelTitle                                        title  \\\n",
       "0  L7tUnDWwqvQ  Raditya Dika         Makanan Favorit Keluarga Istri Saya!   \n",
       "1  vIoaAfglUlA  Raditya Dika  Setelah keluar kata2 sakti baru deh nurut..   \n",
       "2  fodkqroWBpY  Raditya Dika                     Hohohihihohohihihohohihi   \n",
       "\n",
       "                                         description            tags  \\\n",
       "0  Beberapa waktu lalu, gue ngundang tante gue un...  [raditya dika]   \n",
       "1                                                               None   \n",
       "2  Beli video kompilasi tur Stand Up Comedy Radit...  [raditya dika]   \n",
       "\n",
       "            publishedAt viewCount likeCount favouriteCount commentCount  \\\n",
       "0  2023-12-29T13:25:30Z    126930      3840           None          302   \n",
       "1  2023-12-25T03:42:53Z     40769      1495           None           35   \n",
       "2  2023-12-22T12:00:34Z    256938      5853           None          311   \n",
       "\n",
       "   duration definition caption  \n",
       "0  PT15M25S         hd   false  \n",
       "1     PT25S         hd   false  \n",
       "2  PT33M43S         hd   false  "
      ]
     },
     "execution_count": 58,
     "metadata": {},
     "output_type": "execute_result"
    }
   ],
   "source": [
    "video_df = get_video_details(youtube, video_ids)\n",
    "video_df"
   ]
  },
  {
   "cell_type": "code",
   "execution_count": 67,
   "metadata": {},
   "outputs": [],
   "source": [
    "def get_videos_comments(youtube, video_ids):\n",
    "    all_comments = []\n",
    "    \n",
    "    for video_id in video_ids:\n",
    "        try:   \n",
    "            request = youtube.commentThreads().list(\n",
    "                part=\"snippet,replies\",\n",
    "                videoId=video_id\n",
    "            )\n",
    "            response = request.execute()\n",
    "        \n",
    "            comments_in_video = [comment['snippet']['topLevelComment']['snippet']['textOriginal'] for comment in response['items'][0:10]]\n",
    "            comments_in_video_info = {'video_id': video_id, 'comments': comments_in_video}\n",
    "\n",
    "            all_comments.append(comments_in_video_info)\n",
    "            \n",
    "        except: \n",
    "            # When error occurs - most likely because comments are disabled on a video\n",
    "            print('Could not get comments for video ' + video_id)\n",
    "        \n",
    "    return pd.DataFrame(all_comments)     "
   ]
  },
  {
   "cell_type": "code",
   "execution_count": 68,
   "metadata": {},
   "outputs": [
    {
     "name": "stdout",
     "output_type": "stream",
     "text": [
      "Could not get comments for video xilMLXvl76w\n",
      "Could not get comments for video FXrNRyHqRVI\n"
     ]
    }
   ],
   "source": [
    "comments_df = get_videos_comments(youtube, video_ids)\n",
    "comments_df"
   ]
  },
  {
   "cell_type": "code",
   "execution_count": null,
   "metadata": {},
   "outputs": [],
   "source": []
  }
 ],
 "metadata": {
  "kernelspec": {
   "display_name": "Python 3",
   "language": "python",
   "name": "python3"
  },
  "language_info": {
   "codemirror_mode": {
    "name": "ipython",
    "version": 3
   },
   "file_extension": ".py",
   "mimetype": "text/x-python",
   "name": "python",
   "nbconvert_exporter": "python",
   "pygments_lexer": "ipython3",
   "version": "3.9.13"
  }
 },
 "nbformat": 4,
 "nbformat_minor": 2
}
